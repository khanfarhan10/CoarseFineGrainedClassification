{
 "cells": [
  {
   "cell_type": "code",
   "execution_count": 15,
   "metadata": {},
   "outputs": [],
   "source": [
    "from PIL import Image\n",
    "import os\n",
    "import random\n",
    "# from resizeimage import resizeimage\n",
    "from shutil import copyfile\n",
    "import string\n",
    "from random import *\n",
    "import random"
   ]
  },
  {
   "cell_type": "code",
   "execution_count": 16,
   "metadata": {},
   "outputs": [],
   "source": [
    "labs = {'aircrafts' : 0, \"birds_\" : 1, \"cars\" : 2, \"dogs_\" : 3, \"flowers_\" : 4}"
   ]
  },
  {
   "cell_type": "code",
   "execution_count": 20,
   "metadata": {},
   "outputs": [],
   "source": [
    "def generate_pass():\n",
    "    min_char = 6\n",
    "    max_char = 6\n",
    "    allchar = string.ascii_letters + string.digits\n",
    "    passwd = \"\".join(choice(allchar) for x in range(randint(min_char, max_char)))\n",
    "    return passwd"
   ]
  },
  {
   "cell_type": "code",
   "execution_count": 21,
   "metadata": {},
   "outputs": [],
   "source": [
    "for category in os.listdir(\"train\"):\n",
    "    for subcat in os.listdir(\"train/{}\".format(category)):\n",
    "        x = os.listdir(\"train/{}/{}\".format(category, subcat))\n",
    "        l = len(x)\n",
    "        frac = int(l*0.1)\n",
    "        valid_file = open(\"valid.txt\", \"a+\")\n",
    "        for i in x[:frac]:\n",
    "            name = generate_pass() + i\n",
    "            valid_file.write(name + \" \" + str(labs[category]) + \"\\n\")\n",
    "            src = \"train/{}/{}/{}\".format(category, subcat, i)\n",
    "            img = Image.open(src)\n",
    "            img = img.resize((224,224), Image.ANTIALIAS)\n",
    "            dest = \"tens_valid/{}\".format(name)\n",
    "#             copyfile(src, dst)\n",
    "            img.save(dest)\n",
    "        valid_file.close()\n",
    "        train_file = open(\"train.txt\", \"a+\")\n",
    "        for i in x[frac:]:\n",
    "            name = generate_pass() + i\n",
    "            train_file.write(name + \" \" + str(labs[category]) + \"\\n\")\n",
    "            src = \"train/{}/{}/{}\".format(category, subcat, i)\n",
    "            dest = \"tens_train/{}\".format(name)\n",
    "            img = Image.open(src)\n",
    "            img = img.resize((224,224), Image.ANTIALIAS)\n",
    "#             copyfile(src, dst)\n",
    "            img.save(dest)\n",
    "        train_file.close()\n",
    "#             copyfile(src, dst)"
   ]
  },
  {
   "cell_type": "code",
   "execution_count": null,
   "metadata": {},
   "outputs": [],
   "source": []
  }
 ],
 "metadata": {
  "kernelspec": {
   "display_name": "Python 3",
   "language": "python",
   "name": "python3"
  },
  "language_info": {
   "codemirror_mode": {
    "name": "ipython",
    "version": 3
   },
   "file_extension": ".py",
   "mimetype": "text/x-python",
   "name": "python",
   "nbconvert_exporter": "python",
   "pygments_lexer": "ipython3",
   "version": "3.6.6"
  }
 },
 "nbformat": 4,
 "nbformat_minor": 2
}
