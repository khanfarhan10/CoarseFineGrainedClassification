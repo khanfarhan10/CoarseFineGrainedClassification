{
 "cells": [
  {
   "cell_type": "code",
   "execution_count": 59,
   "metadata": {},
   "outputs": [],
   "source": [
    "import imageio"
   ]
  },
  {
   "cell_type": "code",
   "execution_count": 62,
   "metadata": {},
   "outputs": [],
   "source": [
    "x = imageio.imread(\"../Dataset/camera1/JPEGImages/00001.jpg\")"
   ]
  },
  {
   "cell_type": "code",
   "execution_count": 63,
   "metadata": {},
   "outputs": [
    {
     "data": {
      "text/plain": [
       "Array([[[ 88,  90,  85],\n",
       "        [ 87,  89,  84],\n",
       "        [ 85,  87,  82],\n",
       "        ...,\n",
       "        [ 72,  66,  94],\n",
       "        [ 77,  71, 105],\n",
       "        [ 89,  85, 122]],\n",
       "\n",
       "       [[ 99, 101,  96],\n",
       "        [ 99, 101,  96],\n",
       "        [101, 103,  98],\n",
       "        ...,\n",
       "        [ 73,  67,  93],\n",
       "        [ 69,  64,  96],\n",
       "        [100,  96, 129]],\n",
       "\n",
       "       [[ 82,  87,  83],\n",
       "        [ 80,  85,  81],\n",
       "        [ 79,  84,  80],\n",
       "        ...,\n",
       "        [ 72,  64,  88],\n",
       "        [ 58,  52,  80],\n",
       "        [126, 119, 150]],\n",
       "\n",
       "       ...,\n",
       "\n",
       "       [[158, 158, 150],\n",
       "        [160, 159, 154],\n",
       "        [162, 161, 156],\n",
       "        ...,\n",
       "        [ 95,  96,  91],\n",
       "        [ 95,  96,  91],\n",
       "        [ 95,  96,  91]],\n",
       "\n",
       "       [[155, 155, 147],\n",
       "        [162, 161, 156],\n",
       "        [161, 160, 155],\n",
       "        ...,\n",
       "        [ 95,  96,  91],\n",
       "        [ 95,  96,  91],\n",
       "        [ 95,  96,  91]],\n",
       "\n",
       "       [[157, 157, 149],\n",
       "        [161, 160, 155],\n",
       "        [162, 161, 156],\n",
       "        ...,\n",
       "        [ 95,  96,  91],\n",
       "        [ 95,  96,  91],\n",
       "        [ 95,  96,  91]]], dtype=uint8)"
      ]
     },
     "execution_count": 63,
     "metadata": {},
     "output_type": "execute_result"
    }
   ],
   "source": [
    "x"
   ]
  },
  {
   "cell_type": "code",
   "execution_count": null,
   "metadata": {},
   "outputs": [],
   "source": []
  }
 ],
 "metadata": {
  "kernelspec": {
   "display_name": "Python 3",
   "language": "python",
   "name": "python3"
  },
  "language_info": {
   "codemirror_mode": {
    "name": "ipython",
    "version": 3
   },
   "file_extension": ".py",
   "mimetype": "text/x-python",
   "name": "python",
   "nbconvert_exporter": "python",
   "pygments_lexer": "ipython3",
   "version": "3.6.8"
  }
 },
 "nbformat": 4,
 "nbformat_minor": 2
}
