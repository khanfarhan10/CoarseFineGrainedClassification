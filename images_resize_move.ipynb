{
 "cells": [
  {
   "cell_type": "code",
   "execution_count": 2,
   "metadata": {},
   "outputs": [],
   "source": [
    "from PIL import Image\n",
    "import os\n",
    "import random\n",
    "# from resizeimage import resizeimage\n",
    "from shutil import copyfile\n",
    "import random"
   ]
  },
  {
   "cell_type": "code",
   "execution_count": 22,
   "metadata": {},
   "outputs": [],
   "source": [
    "for category in os.listdir(\"data\"):\n",
    "    for image in os.listdir(\"data/\" + category):\n",
    "        img = Image.open(\"data/\" + category + \"/\" + image)\n",
    "        cover = resizeimage.resize_cover(img, [300, 300])\n",
    "        if not os.path.exists(\"resize_data/\" + category):\n",
    "            os.makedirs(\"resize_data/\" + category)\n",
    "        cover.save(\"resize_data/\" + category + \"/\" + image)"
   ]
  },
  {
   "cell_type": "code",
   "execution_count": 5,
   "metadata": {},
   "outputs": [],
   "source": [
    "for category in os.listdir(\"train\"):\n",
    "    for subcat in os.listdir(\"train/\" + category):\n",
    "        x = os.listdir(\"train/\" + category + \"/\" + subcat)\n",
    "        length = len(x)\n",
    "        frac = int(0.05*length)\n",
    "        y = random.sample(range(0, length), frac)\n",
    "        for i in y:\n",
    "    #         img = Image.open(\"final_images/\" + category + \"/\" + image)\n",
    "            if not os.path.exists(\"test/\" + category + \"/\" + subcat):\n",
    "                os.makedirs(\"test/\" + category + \"/\" + subcat)\n",
    "            src = \"train/\" + category + \"/\" + subcat + \"/\" + x[i]\n",
    "            dest = \"test/\" + category + \"/\" + subcat + \"/\" + x[i]\n",
    "            os.rename(src, dest)"
   ]
  },
  {
   "cell_type": "code",
   "execution_count": 2,
   "metadata": {},
   "outputs": [],
   "source": [
    "for category in os.listdir(\"final_images\"):\n",
    "    x = os.listdir(\"final_images/\" + category)\n",
    "    names = [i.split(\".\")[0] for i in x]\n",
    "    names = list(set(names))\n",
    "    y = random.sample(names, 6)\n",
    "#     print(y)\n",
    "    for i in y:\n",
    "        src = \"final_images/\" + category + \"/\" + i + \".jpg\"\n",
    "        dest = \"more_data/test/\" + i + \".jpg\"\n",
    "#         copyfile(src, dst)\n",
    "        os.rename(src, dest)\n",
    "        src = \"final_images/\" + category + \"/\" + i + \".xml\"\n",
    "        dest = \"more_data/test/\" + i + \".xml\"\n",
    "#         copyfile(src, dst)\n",
    "        os.rename(src, dest)\n",
    "    \n",
    "    for image in os.listdir(\"final_images/\" + category):\n",
    "        src = \"final_images/\" + category + \"/\" + image\n",
    "        dest = \"more_data/train/\" + image\n",
    "#         copyfile(src, dst)\n",
    "        os.rename(src, dest)"
   ]
  },
  {
   "cell_type": "code",
   "execution_count": 9,
   "metadata": {},
   "outputs": [],
   "source": [
    "for category in os.listdir(\"test\"):\n",
    "    if not os.path.exists(\"coarse_test/\" + category):\n",
    "        os.makedirs(\"coarse_test/\" + category)\n",
    "    for subcat in os.listdir(\"test/\" + category):\n",
    "        x = os.listdir(\"test/\" + category + \"/\" + subcat)\n",
    "        for i in x:\n",
    "            if not os.path.exists(\"coarse_test/\" + category + \"/\" + subcat):\n",
    "                os.makedirs(\"coarse_test/\" + category + \"/\" + subcat)\n",
    "            src = \"test/\" + category + \"/\" + subcat + \"/\" + i\n",
    "            dest = \"coarse_test/\" + category + \"/\" + i\n",
    "            os.rename(src, dest)"
   ]
  },
  {
   "cell_type": "code",
   "execution_count": 4,
   "metadata": {},
   "outputs": [],
   "source": [
    "for category in os.listdir(\"train\"):\n",
    "    if not os.path.exists(\"my_train/\" + category):\n",
    "        os.makedirs(\"my_train/\" + category)\n",
    "    for subcat in os.listdir(\"train/\" + category):\n",
    "        x = os.listdir(\"train/\" + category + \"/\" + subcat)\n",
    "        for i in x:\n",
    "#             if not os.path.exists(\"my_train/\" + category + \"/\" + subcat):\n",
    "#                 os.makedirs(\"my_train/\" + category + \"/\" + subcat)\n",
    "            src = \"train/\" + category + \"/\" + subcat + \"/\" + i\n",
    "            dest = \"my_train/\" + category + \"/\" + i\n",
    "            copyfile(src, dest)"
   ]
  },
  {
   "cell_type": "code",
   "execution_count": null,
   "metadata": {},
   "outputs": [],
   "source": []
  }
 ],
 "metadata": {
  "kernelspec": {
   "display_name": "Python 3",
   "language": "python",
   "name": "python3"
  },
  "language_info": {
   "codemirror_mode": {
    "name": "ipython",
    "version": 3
   },
   "file_extension": ".py",
   "mimetype": "text/x-python",
   "name": "python",
   "nbconvert_exporter": "python",
   "pygments_lexer": "ipython3",
   "version": "3.7.4"
  }
 },
 "nbformat": 4,
 "nbformat_minor": 2
}
